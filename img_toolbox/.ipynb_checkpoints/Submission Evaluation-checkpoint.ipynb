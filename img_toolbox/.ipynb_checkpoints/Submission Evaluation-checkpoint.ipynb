{
 "cells": [
  {
   "cell_type": "code",
   "execution_count": 58,
   "metadata": {},
   "outputs": [],
   "source": [
    "import tifffile\n",
    "import h5py\n",
    "import numpy as np\n",
    "import os\n",
    "from skimage.measure import label\n",
    "from yacs.config import CfgNode as CN "
   ]
  },
  {
   "cell_type": "code",
   "execution_count": 59,
   "metadata": {},
   "outputs": [],
   "source": [
    "_C = CN()\n",
    "\n",
    "_C.ROOT = \"/n/pfister_lab2/Lab/zudilin/data/NucExM/NucExM-Release\"\n",
    "_C.TARGET_DIR = \"/n/pfister_lab2/Lab/leander/cerberus/img_toolbox/mAP_3Dvolume_output\"\n",
    "\n",
    "_C.GT = [\"<gt0>0.h5\",\"<gt1>.h5\",\"<gt2>.h5\",\"<gt3>.h5\"]\n",
    "_C.PREDCITIONS = [\"<gt0>0.h5\",\"<gt1>.h5\",\"<gt2>.h5\",\"<gt3>.h5\"]\n",
    "\n",
    "_C.H5KEY = 'main'"
   ]
  },
  {
   "cell_type": "code",
   "execution_count": 60,
   "metadata": {},
   "outputs": [],
   "source": [
    "def get_cfg_defaults():\n",
    "    return _C.clone()\n",
    "\n",
    "cfg = get_cfg_defaults()"
   ]
  },
  {
   "cell_type": "code",
   "execution_count": 53,
   "metadata": {},
   "outputs": [],
   "source": [
    "def tif_to_h5(orig_path, dest_path, insta=False):\n",
    "    \"\"\" Takes a tiff file and converts it to a h5 file.\n",
    "        \n",
    "        Args:\n",
    "            orig_path: Path to the tiff file\n",
    "            dest_path: Path where to save the h5 file\n",
    "    \"\"\"\n",
    "    with tifffile.TiffFile(orig_path) as tif, \\\n",
    "            h5py.File(os.path.join(dest_path, orig_path.split(\"/\")[-1].split(\".\")[0]+\".h5\"), \"w\") as h5:\n",
    "        tif_images = np.asarray([t.asarray() for t in tif.pages[:]])\n",
    "        if insta:\n",
    "            tif_images_inst = skimage.measure.label(tif_images)\n",
    "            assert(tif_images_inst.shape == tif_images.shape)\n",
    "            h5_dataset =  h5.create_dataset(\"main\", data=tif_images_inst)\n",
    "        else:\n",
    "            h5_dataset =  h5.create_dataset(\"main\", data=tif_images)"
   ]
  },
  {
   "cell_type": "code",
   "execution_count": 54,
   "metadata": {},
   "outputs": [],
   "source": [
    "def h5_seg_to_instance(orig_path, dest_path, insta=True):\n",
    "    \"\"\" Loads a h5 segmantic segmentation datasets and converts it to a \n",
    "        instance segmentation dataset by assinging an indivual label to each object.\n",
    "        \n",
    "        Args:\n",
    "            orig_path: Path to the tiff file\n",
    "            dest_path: Path where to save the h5 file\n",
    "    \"\"\"\n",
    "    with h5py.File(orig_path, 'r') as h5_read, \\\n",
    "            h5py.File(os.path.join(dest_path, orig_path.split(\"/\")[-1]), \"w\") as h5_write:\n",
    "        h5_img = h5_read.get(list(h5_read.keys())[0])\n",
    "        h5_img_inst = label(h5_img)\n",
    "        assert(h5_img_inst.shape == h5_img.shape)\n",
    "        h5_dataset =  h5_write.create_dataset(\"main\", data=h5_img_inst)"
   ]
  },
  {
   "cell_type": "code",
   "execution_count": null,
   "metadata": {},
   "outputs": [],
   "source": [
    "for i, (gt, p) in enumerate(zip(cfg.GT, cfg.PREDICTIONS)):\n",
    "    # convert sematic segmentation masks to instance segmentation maks\n",
    "    h5_seg_to_instance(os.path.join(cfg.ROOT, p), cfg.TARGET_DIR)\n",
    "    "
   ]
  },
  {
   "cell_type": "code",
   "execution_count": 55,
   "metadata": {},
   "outputs": [],
   "source": [
    "tif_to_h5(\"/n/pfister_lab2/Lab/leander/cerberus/ccgan/datasets/dorsal_crop_3D_255_512/gt_seg_mask/seg_3D_255_512_512.tif\", \n",
    "         \"/n/pfister_lab2/Lab/leander/cerberus/img_toolbox/mAP_3Dvolume_output\")"
   ]
  },
  {
   "cell_type": "code",
   "execution_count": 56,
   "metadata": {},
   "outputs": [],
   "source": [
    "h5_inst(\"/n/pfister_lab2/Lab/zudilin/data/NucExM/prediction/segm_image0_bcd_cysgan_feb23.h5\",\"/n/pfister_lab2/Lab/leander/cerberus/img_toolbox/mAP_3Dvolume_output\")"
   ]
  },
  {
   "cell_type": "code",
   "execution_count": 57,
   "metadata": {},
   "outputs": [
    {
     "name": "stdout",
     "output_type": "stream",
     "text": [
      "\t1. Load data\n",
      "\t2. Compute IoU\n",
      "\t compute bounding boxes\n",
      "100%|████████████████████████████████████████| 242/242 [00:01<00:00, 209.52it/s]\n",
      "\t compute iou matching\n",
      "10050it [00:14, 690.35it/s] \n",
      "\t-RUNTIME:\t32.866 [sec]\n",
      "\n",
      "start evaluation\n",
      "Accumulating evaluation results...\n",
      "DONE (t=0.08s).\n"
     ]
    }
   ],
   "source": [
    "!python ../mAP_3Dvolume/demo.py -gt /n/pfister_lab2/Lab/leander/cerberus/img_toolbox/mAP_3Dvolume_output/seg_3D_255_512_512.h5 -p /n/pfister_lab2/Lab/leander/cerberus/img_toolbox/mAP_3Dvolume_output/segm_image0_bcd_cysgan_feb23.h5\n"
   ]
  },
  {
   "cell_type": "code",
   "execution_count": null,
   "metadata": {},
   "outputs": [],
   "source": []
  }
 ],
 "metadata": {
  "kernelspec": {
   "display_name": "Python 3",
   "language": "python",
   "name": "python3"
  },
  "language_info": {
   "codemirror_mode": {
    "name": "ipython",
    "version": 3
   },
   "file_extension": ".py",
   "mimetype": "text/x-python",
   "name": "python",
   "nbconvert_exporter": "python",
   "pygments_lexer": "ipython3",
   "version": "3.7.6"
  }
 },
 "nbformat": 4,
 "nbformat_minor": 4
}

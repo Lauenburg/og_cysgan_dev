{
 "cells": [
  {
   "cell_type": "code",
   "execution_count": null,
   "metadata": {},
   "outputs": [],
   "source": [
    "from PIL import Image\n",
    "import h5py\n",
    "import os\n",
    "from tqdm import tqdm"
   ]
  },
  {
   "cell_type": "code",
   "execution_count": null,
   "metadata": {},
   "outputs": [],
   "source": [
    "with h5py.File(\"/n/pfister_lab2/Lab/zudilin/data/NucExM/NucExM-Release/image4.h5\",\"r\") as h5:\n",
    "    images = h5.get(\"main\")\n",
    "    for i, img in tqdm(enumerate(images)):  \n",
    "        im = Image.fromarray(img)\n",
    "        im.save(os.path.join(\"/n/pfister_lab2/Lab/leander/cerberus/img_toolbox/CVAY_vol4\",\"slice_\"+str(i)+\"image4.jpeg\"))"
   ]
  },
  {
   "cell_type": "code",
   "execution_count": null,
   "metadata": {},
   "outputs": [],
   "source": []
  }
 ],
 "metadata": {
  "kernelspec": {
   "display_name": "Python 3",
   "language": "python",
   "name": "python3"
  },
  "language_info": {
   "codemirror_mode": {
    "name": "ipython",
    "version": 3
   },
   "file_extension": ".py",
   "mimetype": "text/x-python",
   "name": "python",
   "nbconvert_exporter": "python",
   "pygments_lexer": "ipython3",
   "version": "3.7.6"
  }
 },
 "nbformat": 4,
 "nbformat_minor": 4
}

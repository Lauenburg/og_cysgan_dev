{
 "cells": [
  {
   "cell_type": "markdown",
   "metadata": {},
   "source": [
    "## Cellpose - Transfer learning (Intelligent)"
   ]
  },
  {
   "cell_type": "markdown",
   "metadata": {},
   "source": [
    "Apply the anatomical segmentation algorithm [cellpose](https://www.cellpose.org/) to the data"
   ]
  },
  {
   "cell_type": "code",
   "execution_count": 2,
   "metadata": {},
   "outputs": [],
   "source": [
    "#!pip install cellpose"
   ]
  },
  {
   "cell_type": "markdown",
   "metadata": {},
   "source": [
    "# Imports"
   ]
  },
  {
   "cell_type": "code",
   "execution_count": 3,
   "metadata": {},
   "outputs": [
    {
     "name": "stdout",
     "output_type": "stream",
     "text": [
      "2022-02-27 13:22:22,117 [INFO] WRITING LOG OUTPUT TO /n/home05/lauenburg/.cellpose/run.log\n"
     ]
    }
   ],
   "source": [
    "from cellpose import models, plot, io, metrics\n",
    "from yacs.config import CfgNode as CN \n",
    "import os\n",
    "import h5py\n",
    "import numpy as np\n",
    "from matplotlib import pyplot as plt\n",
    "from scipy.ndimage import zoom\n",
    "import tifffile\n",
    "from scipy import optimize\n",
    "import cv2\n",
    "from tqdm import tqdm\n",
    "\n",
    "from connectomics.data.utils import *\n",
    "from connectomics.data.utils import getSegType\n",
    "from skimage.transform import resize"
   ]
  },
  {
   "cell_type": "markdown",
   "metadata": {},
   "source": [
    "# Configs"
   ]
  },
  {
   "cell_type": "code",
   "execution_count": 4,
   "metadata": {},
   "outputs": [],
   "source": [
    "_C = CN()\n",
    "\n",
    "# path to the datasets\n",
    "_C.ROOT = \"/n/pfister_lab2/Lab/zudilin/data/NucExM/NucExM-Release\"\n",
    "# datasets\n",
    "_C.VOLUMES = [\"image0.h5\",\"image1.h5\",\"image2.h5\",\"image3.h5\"]\n",
    "\n",
    "_C.H5KEY = 'main'"
   ]
  },
  {
   "cell_type": "code",
   "execution_count": 5,
   "metadata": {},
   "outputs": [],
   "source": [
    "def get_cfg_defaults():\n",
    "    return _C.clone()\n",
    "\n",
    "cfg = get_cfg_defaults()"
   ]
  },
  {
   "cell_type": "markdown",
   "metadata": {},
   "source": [
    "# Best configs:\n",
    "* \"image0.h5\" : vol, stitch_threshold=0.7, do_3D=False, resample=True, anisotropy=5, flow_threshold=1.2, mask_threshold=-3, diameter=70, invert=False\n",
    "* \"image1.h5\" : \n",
    "* \"image2.h5\" : \n",
    "* \"image3.h5\" : \n"
   ]
  },
  {
   "cell_type": "markdown",
   "metadata": {},
   "source": [
    "# Utils"
   ]
  },
  {
   "cell_type": "code",
   "execution_count": 18,
   "metadata": {},
   "outputs": [],
   "source": [
    "# taken from PyCT (author: Zudi Lin)\n",
    "def cast2dtype(segm):\n",
    "    \"\"\"Cast the segmentation mask to the best dtype to save storage.\n",
    "    \"\"\"\n",
    "    max_id = np.amax(np.unique(segm))\n",
    "    m_type = getSegType(int(max_id))\n",
    "    return segm.astype(m_type)"
   ]
  },
  {
   "cell_type": "code",
   "execution_count": 8,
   "metadata": {},
   "outputs": [],
   "source": [
    "# load h5 volume\n",
    "def load_vol(root,vol_name):\n",
    "    \"\"\" Loads and returns the data from an h5 file\n",
    "        \n",
    "        Args:\n",
    "            root: path to the root folder\n",
    "            vol_name: name of the volume\n",
    "            \n",
    "        Return:\n",
    "            The loaded volume as numpy array\n",
    "    \"\"\"\n",
    "    with h5py.File(os.path.join(root, vol_name), 'r') as h5:\n",
    "        vol = np.asarray(h5.get(cfg.H5KEY))\n",
    "    return vol"
   ]
  },
  {
   "cell_type": "code",
   "execution_count": 9,
   "metadata": {},
   "outputs": [],
   "source": [
    "# load tif volume\n",
    "def load_vol_tif(path):\n",
    "    \"\"\" Loads and returns the data from an tif file\n",
    "        \n",
    "        Args:\n",
    "            root: path to the root folder\n",
    "            vol_name: name of the volume\n",
    "            \n",
    "        Return:\n",
    "            The loaded volume as numpy array\n",
    "    \"\"\"\n",
    "    with tifffile.TiffFile(path) as tif:\n",
    "        vol = np.asarray([img.asarray()  for img in tif.pages[:]])\n",
    "    return vol"
   ]
  },
  {
   "cell_type": "code",
   "execution_count": 10,
   "metadata": {},
   "outputs": [],
   "source": [
    "# plot sample result\n",
    "def vis_sample(img, masks, flows, channels=[[0,0]], figsize=(12,5), save=False, path=None):\n",
    "    \"\"\" Visualizes the output of the Cellpose algorithems.\n",
    "    \n",
    "        Args:\n",
    "            img: the orginal image\n",
    "            mask: the mask outputed by Cellpose\n",
    "            flow: the flows outputed by Cellpose\n",
    "    \"\"\"\n",
    "    fig = plt.figure(figsize=figsize)\n",
    "    plot.show_segmentation(fig, img, masks, np.asarray(flows[0]), channels=channels)\n",
    "    plt.tight_layout()\n",
    "    plt.show()\n",
    "    if save:\n",
    "        fig.savefig(path, dpi=fig.dpi)"
   ]
  },
  {
   "cell_type": "code",
   "execution_count": 11,
   "metadata": {},
   "outputs": [],
   "source": [
    "def color_grid_box(img,block_size,x1,x2,y1,y2,color=[255,0,0]):\n",
    "    \"\"\" Creates adds the outline of a square to a image with three channels.\n",
    "    \n",
    "        Args:\n",
    "            img: the image in which to draw the outline\n",
    "            block_size: the size of the square\n",
    "            x1: the location of the left vertical edge\n",
    "            x2: the location of the right vertical edge\n",
    "            y1: the location of the top horizontal edge\n",
    "            y2: the location of the bottom horizontal edge            \n",
    "    \"\"\"\n",
    "    if not isinstance(block_size, tuple):\n",
    "        if isinstance(block_size, int):\n",
    "            block_size= (block_size,block_size)\n",
    "        else:\n",
    "            print(f\"block_size must be tupel or int, but is {block_size.type}\")\n",
    "    img[y1*block_size[0]:y2*block_size[0],x1*block_size[1],:] = grid_color_red\n",
    "    img[y1*block_size[0]:y2*block_size[0],x2*block_size[1],:] = grid_color_red\n",
    "    img[y1*block_size[0],x1*block_size[1]:x2*block_size[1],:] = grid_color_red\n",
    "    img[y2*block_size[0],x1*block_size[1]:x2*block_size[1],:] = grid_color_red\n",
    "    return img"
   ]
  },
  {
   "cell_type": "markdown",
   "metadata": {},
   "source": [
    "# Cellpose model"
   ]
  },
  {
   "cell_type": "code",
   "execution_count": 14,
   "metadata": {},
   "outputs": [
    {
     "name": "stdout",
     "output_type": "stream",
     "text": [
      "2022-02-27 13:24:27,305 [INFO] ** TORCH CUDA version installed and working. **\n",
      "2022-02-27 13:24:27,309 [INFO] >>>> using GPU\n"
     ]
    }
   ],
   "source": [
    "model = models.Cellpose(model_type='nuclei', gpu=True)\n",
    "# gray images\n",
    "channels = [[0,0]]"
   ]
  },
  {
   "cell_type": "markdown",
   "metadata": {},
   "source": [
    "# Inference full volume"
   ]
  },
  {
   "cell_type": "code",
   "execution_count": null,
   "metadata": {},
   "outputs": [],
   "source": [
    "#setup model\n",
    "model = models.Cellpose(model_type='nuclei', gpu=True)\n",
    "\n",
    "# define channels - gray images\n",
    "channels = [[0,0]]\n",
    "\n",
    "for l, vol_name in enumerate(cfg.VOLUMES[:1]):\n",
    "    # laod volume \n",
    "    vol = load_vol(cfg.ROOT, vol_name)\n",
    "    assert(vol.shape==(255,2048,2048)),f\"{vol.shape}\"\n",
    "    \n",
    "    # inference volume \n",
    "    masks, flows, styles, diams = model.eval(vol, stitch_threshold=0.7, do_3D=False, resample=True, anisotropy=5, flow_threshold=1.2, mask_threshold=-3, diameter=70, invert=False)\n",
    "    \n",
    "    # resize masks\n",
    "    masks_resize = resize(masks, (255,512,512), order=0, preserve_range=True, anti_aliasing=False)\n",
    "    assert(masks_resize.shape==(255,512,512)),f\"{masks_resize.shape}\"\n",
    "\n",
    "    # cast type to int\n",
    "    final_mask_volume = cast2dtype(masks_resize)\n",
    "    assert(final_mask_volume.dtype in [\"uint16\", \"uint32\", \"uint64\"]), \"The input label volume should be of type uint8 | uint16 | uint32 | uint64\"\n",
    "\n",
    "    # save to file\n",
    "    with h5py.File(os.path.join(\"/n/pfister_lab2/Lab/leander/cerberus/img_toolbox/cellpose_ouput\", \"cellpose_no3d_stitch_2_\"+vol_name), \"w\") as h5:\n",
    "        h5_dataset =  h5.create_dataset(\"main\", data=final_mask_volume)\n",
    "    "
   ]
  },
  {
   "cell_type": "markdown",
   "metadata": {},
   "source": [
    "# Inference slice by slice"
   ]
  },
  {
   "cell_type": "code",
   "execution_count": 19,
   "metadata": {},
   "outputs": [],
   "source": [
    "# values derived from experimenting with the sample below\n",
    "diamters = [110,100,100,100]\n",
    "thresholds = [-1,-2,-2,-2]"
   ]
  },
  {
   "cell_type": "code",
   "execution_count": 1,
   "metadata": {},
   "outputs": [
    {
     "ename": "NameError",
     "evalue": "name 'cfg' is not defined",
     "output_type": "error",
     "traceback": [
      "\u001b[0;31m---------------------------------------------------------------------------\u001b[0m",
      "\u001b[0;31mNameError\u001b[0m                                 Traceback (most recent call last)",
      "\u001b[0;32m<ipython-input-1-336edf8a3a06>\u001b[0m in \u001b[0;36m<module>\u001b[0;34m\u001b[0m\n\u001b[0;32m----> 1\u001b[0;31m \u001b[0;32mfor\u001b[0m \u001b[0mi\u001b[0m\u001b[0;34m,\u001b[0m \u001b[0mvol_name\u001b[0m \u001b[0;32min\u001b[0m \u001b[0menumerate\u001b[0m\u001b[0;34m(\u001b[0m\u001b[0mcfg\u001b[0m\u001b[0;34m.\u001b[0m\u001b[0mVOLUMES\u001b[0m\u001b[0;34m[\u001b[0m\u001b[0;34m:\u001b[0m\u001b[0;36m1\u001b[0m\u001b[0;34m]\u001b[0m\u001b[0;34m)\u001b[0m\u001b[0;34m:\u001b[0m\u001b[0;34m\u001b[0m\u001b[0;34m\u001b[0m\u001b[0m\n\u001b[0m\u001b[1;32m      2\u001b[0m     \u001b[0mvol\u001b[0m \u001b[0;34m=\u001b[0m \u001b[0mload_vol\u001b[0m\u001b[0;34m(\u001b[0m\u001b[0mcfg\u001b[0m\u001b[0;34m.\u001b[0m\u001b[0mROOT\u001b[0m\u001b[0;34m,\u001b[0m \u001b[0mvol_name\u001b[0m\u001b[0;34m)\u001b[0m\u001b[0;34m\u001b[0m\u001b[0;34m\u001b[0m\u001b[0m\n\u001b[1;32m      3\u001b[0m \u001b[0;34m\u001b[0m\u001b[0m\n\u001b[1;32m      4\u001b[0m     \u001b[0mfinal_mask_volume\u001b[0m \u001b[0;34m=\u001b[0m \u001b[0mnp\u001b[0m\u001b[0;34m.\u001b[0m\u001b[0mzeros\u001b[0m\u001b[0;34m(\u001b[0m\u001b[0;34m(\u001b[0m\u001b[0;36m255\u001b[0m\u001b[0;34m,\u001b[0m\u001b[0;36m512\u001b[0m\u001b[0;34m,\u001b[0m\u001b[0;36m512\u001b[0m\u001b[0;34m)\u001b[0m\u001b[0;34m)\u001b[0m\u001b[0;34m\u001b[0m\u001b[0;34m\u001b[0m\u001b[0m\n\u001b[1;32m      5\u001b[0m \u001b[0;34m\u001b[0m\u001b[0m\n",
      "\u001b[0;31mNameError\u001b[0m: name 'cfg' is not defined"
     ]
    }
   ],
   "source": [
    "for i, vol_name in enumerate(cfg.VOLUMES[:1]):\n",
    "    vol = load_vol(cfg.ROOT, vol_name)\n",
    "    \n",
    "    final_mask_volume = np.zeros((255,512,512))\n",
    "    \n",
    "    for i, v in enumerate(vol):\n",
    "        m, flows, styles, diams = model.eval(v, resample=True, anisotropy=1, flow_threshold=1.2, mask_threshold=-5, diameter=60, invert=False, channels=channels)\n",
    "        m = resize(m, (512,512), order=0, preserve_range=True, anti_aliasing=False)\n",
    "\n",
    "        final_mask_volume[i,:,:] = m\n",
    "\n",
    "    final_mask_volume = cast2dtype(final_mask_volume)\n",
    "    final_mask_volume = stitch3D(final_mask_volume)\n",
    "\n",
    "    with h5py.File(os.path.join(\"/n/pfister_lab2/Lab/leander/cerberus/img_toolbox/cellpose_ouput\", \"cellpose_masks_img_by_img_care_\"+vol_name), \"w\") as h5:\n",
    "        h5_dataset =  h5.create_dataset(\"main\", data=final_mask_volume)\n",
    "    "
   ]
  },
  {
   "cell_type": "markdown",
   "metadata": {},
   "source": [
    "# Load and inspect results"
   ]
  },
  {
   "cell_type": "code",
   "execution_count": null,
   "metadata": {},
   "outputs": [],
   "source": [
    "with h5py.File(os.path.join(\"/n/pfister_lab2/Lab/leander/cerberus/img_toolbox/cellpose_ouput\", \"cellpose_masks_image_by_image_\"+cfg.VOLUMES[0]), \"r\") as h5:\n",
    "    h5_dataset =  np.asarray(h5.get('main'))"
   ]
  },
  {
   "cell_type": "code",
   "execution_count": 50,
   "metadata": {},
   "outputs": [
    {
     "data": {
      "text/plain": [
       "<matplotlib.image.AxesImage at 0x2b303e715510>"
      ]
     },
     "execution_count": 50,
     "metadata": {},
     "output_type": "execute_result"
    },
    {
     "data": {
      "image/png": "[encoded data removed]",
      "text/plain": [
       "<Figure size 432x288 with 1 Axes>"
      ]
     },
     "metadata": {
      "needs_background": "light"
     },
     "output_type": "display_data"
    }
   ],
   "source": [
    "plt.set_cmap(\"gray\")\n",
    "plt.imshow(h5_dataset[100,:,:])"
   ]
  },
  {
   "cell_type": "markdown",
   "metadata": {},
   "source": [
    "# Grid search"
   ]
  },
  {
   "cell_type": "code",
   "execution_count": null,
   "metadata": {},
   "outputs": [],
   "source": [
    "label = \"/n/pfister_lab2/Lab/leander/cerberus/ccgan/datasets/dorsal_crop_3D_255_512/gt_seg_mask/seg_3D_255_512_512.tif\"\n",
    "images = \"/n/pfister_lab2/Lab/leander/cerberus/ccgan/datasets/dorsal_crop_3D_255_512/testA/em_3D_255_512_512.tif\"\n",
    "img = load_vol_tif(images)\n",
    "lab = load_vol_tif(label)\n",
    "\n",
    "print(img.shape)\n",
    "print(lab.shape)\n",
    "for i, vol_name in enumerate(cfg.VOLUMES):\n",
    "    params = (load_vol_tif(images)[120:180,:512,:512], load_vol_tif(label)[120:180,:512,:512], model)\n",
    "    rranges = (slice(1, 4, 1), slice(90, 120, 5), slice(-3, 3, 1))\n",
    "    resbrute = optimize.brute(grid_search_stardis, rranges, args=params, full_output=True,\n",
    "                          finish=optimize.fmin)\n",
    "\n",
    "print(resbrute)"
   ]
  },
  {
   "cell_type": "markdown",
   "metadata": {},
   "source": [
    "# Manual grid search"
   ]
  },
  {
   "cell_type": "code",
   "execution_count": null,
   "metadata": {},
   "outputs": [],
   "source": [
    "diamters = [110,120]\n",
    "flow = [0.8, 1.0]\n",
    "threshold = [-4, -3, -2, -1]\n",
    "for vol in cfg.VOLUMES[2:]:\n",
    "    vol = load_vol(cfg.ROOT, vol)\n",
    "    img0_100 = vol_norm[100, : , :]\n",
    "    for d in diamters:\n",
    "        for f in flow:\n",
    "            for t in threshold:\n",
    "                print(f\"Diameter {d}, flow {f}, tresh {t}\")\n",
    "                masks, flows, styles, diams = model.eval(img0_100, resample=True, anisotropy=3, flow_threshold=f, mask_threshold=t, diameter=d, invert=True, channels=channels)\n",
    "                vis_sample(img0_100, masks, flows)#, save=True, path=os.path.join(\"/n/pfister_lab2/Lab/leander/cerberus/img_toolbox/cellpose_ouput\", vol.split(\".\")[0]+\"_d_\"+str(d)+\"_t_\"+ str(t)+\".png\"))"
   ]
  },
  {
   "cell_type": "markdown",
   "metadata": {},
   "source": [
    "# Estimate cell size in pixel"
   ]
  },
  {
   "cell_type": "code",
   "execution_count": null,
   "metadata": {},
   "outputs": [],
   "source": [
    "# retrive sample image\n",
    "img = np.asarray(vol[100, : , :]).astype(np.uint8)\n",
    "print(img.shape)\n",
    "\n",
    "# stack to three channels\n",
    "img = np.stack((img,)*3, axis=-1)\n",
    "\n",
    "# estimate cell size\n",
    "BLOCKSIZE = (95,95)\n",
    "\n",
    "# grid lines at these intervals (in pixels)\n",
    "dx, dy = BLOCKSIZE\n",
    "    \n",
    "# divide the image shape in to tiles\n",
    "ys = int(img.shape[0] // dy)\n",
    "xs = int(img.shape[1] // dx)    \n",
    "\n",
    "# setup the ticks and labels for the x axis\n",
    "x_ticks = [BLOCKSIZE[1]*i for i in range (0,xs)]\n",
    "x_labels = [i for i in range (0,xs)]\n",
    "\n",
    "# setup the ticks and labels for the y axis\n",
    "y_ticks = [BLOCKSIZE[0]*i for i in range (0,ys)]\n",
    "y_labels = [i for i in range (0,ys)]\n",
    "\n",
    "# colors\n",
    "grid_color_green = [0,100,0]\n",
    "grid_color_red = [255,0,0]\n",
    "\n",
    "# Modify the image to include the grid\n",
    "img[:,::dy,:] = grid_color_green\n",
    "img[::dx,:,:] = grid_color_green\n",
    "\n",
    "# color in sample cells\n",
    "img = color_grid_box(img,BLOCKSIZE,10,11,12,13,color=grid_color_red)\n",
    "img = color_grid_box(img,BLOCKSIZE,13,14,16,17,color=grid_color_red)\n",
    "img = color_grid_box(img,BLOCKSIZE,14,15,19,20,color=grid_color_red)\n",
    "img = color_grid_box(img,BLOCKSIZE,4,5,8,9,color=grid_color_red)\n",
    "\n",
    "fig, axes = plt.subplots(ncols=1,nrows=1, figsize=(20,20))\n",
    "\n",
    "axes.set_xticks(x_ticks)\n",
    "axes.set_xticklabels(x_labels)\n",
    "axes.set_yticks(y_ticks)\n",
    "axes.set_yticklabels(y_labels) \n",
    "axes.imshow(img)\n"
   ]
  }
 ],
 "metadata": {
  "kernelspec": {
   "display_name": "Python 3",
   "language": "python",
   "name": "python3"
  },
  "language_info": {
   "codemirror_mode": {
    "name": "ipython",
    "version": 3
   },
   "file_extension": ".py",
   "mimetype": "text/x-python",
   "name": "python",
   "nbconvert_exporter": "python",
   "pygments_lexer": "ipython3",
   "version": "3.7.6"
  }
 },
 "nbformat": 4,
 "nbformat_minor": 4
}

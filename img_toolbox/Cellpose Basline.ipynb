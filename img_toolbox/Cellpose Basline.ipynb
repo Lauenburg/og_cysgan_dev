{
 "cells": [
  {
   "cell_type": "markdown",
   "metadata": {},
   "source": [
    "## Cellpose - Transfer learning (Intelligent)"
   ]
  },
  {
   "cell_type": "markdown",
   "metadata": {},
   "source": [
    "Apply the anatomical segmentation algorithm [cellpose](https://www.cellpose.org/) to the data"
   ]
  },
  {
   "cell_type": "code",
   "execution_count": 1,
   "metadata": {},
   "outputs": [],
   "source": [
    "#!pip install cellpose"
   ]
  },
  {
   "cell_type": "markdown",
   "metadata": {},
   "source": [
    "# Imports"
   ]
  },
  {
   "cell_type": "code",
   "execution_count": 2,
   "metadata": {},
   "outputs": [
    {
     "name": "stdout",
     "output_type": "stream",
     "text": [
      "2022-02-28 23:46:52,278 [INFO] WRITING LOG OUTPUT TO /n/home05/lauenburg/.cellpose/run.log\n"
     ]
    }
   ],
   "source": [
    "from cellpose import models, plot, io, metrics\n",
    "from yacs.config import CfgNode as CN \n",
    "import os\n",
    "import h5py\n",
    "import numpy as np\n",
    "from matplotlib import pyplot as plt\n",
    "from scipy.ndimage import zoom\n",
    "import tifffile\n",
    "from scipy import optimize\n",
    "import cv2\n",
    "from tqdm import tqdm\n",
    "\n",
    "from connectomics.data.utils import *\n",
    "from connectomics.data.utils import getSegType\n",
    "from skimage.transform import resize"
   ]
  },
  {
   "cell_type": "markdown",
   "metadata": {},
   "source": [
    "# Configs"
   ]
  },
  {
   "cell_type": "code",
   "execution_count": 3,
   "metadata": {},
   "outputs": [],
   "source": [
    "_C = CN()\n",
    "\n",
    "# path to the datasets\n",
    "_C.ROOT = \"/n/pfister_lab2/Lab/zudilin/data/NucExM/NucExM-Release\"\n",
    "# datasets\n",
    "#_C.VOLUMES = [\"image0.h5\",\"image1.h5\",\"image2.h5\",\"image3.h5\"]\n",
    "_C.VOLUMES = [\"image4.h5\"]\n",
    "\n",
    "_C.H5KEY = 'main'"
   ]
  },
  {
   "cell_type": "code",
   "execution_count": 4,
   "metadata": {},
   "outputs": [],
   "source": [
    "def get_cfg_defaults():\n",
    "    return _C.clone()\n",
    "\n",
    "cfg = get_cfg_defaults()"
   ]
  },
  {
   "cell_type": "markdown",
   "metadata": {},
   "source": [
    "# Best configs:\n",
    "* \"image0.h5\" : vol, stitch_threshold=0.7, do_3D=False, resample=True, anisotropy=5, flow_threshold=1.2, mask_threshold=-3, diameter=70, invert=False\n",
    "* \"image1.h5\" : \n",
    "* \"image2.h5\" : \n",
    "* \"image3.h5\" : \n"
   ]
  },
  {
   "cell_type": "markdown",
   "metadata": {},
   "source": [
    "# Utils"
   ]
  },
  {
   "cell_type": "code",
   "execution_count": 5,
   "metadata": {},
   "outputs": [],
   "source": [
    "# taken from PyCT (author: Zudi Lin)\n",
    "def cast2dtype(segm):\n",
    "    \"\"\"Cast the segmentation mask to the best dtype to save storage.\n",
    "    \"\"\"\n",
    "    max_id = np.amax(np.unique(segm))\n",
    "    m_type = getSegType(int(max_id))\n",
    "    return segm.astype(m_type)"
   ]
  },
  {
   "cell_type": "code",
   "execution_count": 6,
   "metadata": {},
   "outputs": [],
   "source": [
    "# load h5 volume\n",
    "def load_vol(root,vol_name):\n",
    "    \"\"\" Loads and returns the data from an h5 file\n",
    "        \n",
    "        Args:\n",
    "            root: path to the root folder\n",
    "            vol_name: name of the volume\n",
    "            \n",
    "        Return:\n",
    "            The loaded volume as numpy array\n",
    "    \"\"\"\n",
    "    with h5py.File(os.path.join(root, vol_name), 'r') as h5:\n",
    "        vol = np.asarray(h5.get(cfg.H5KEY))\n",
    "    return vol"
   ]
  },
  {
   "cell_type": "code",
   "execution_count": 7,
   "metadata": {},
   "outputs": [],
   "source": [
    "# load tif volume\n",
    "def load_vol_tif(path):\n",
    "    \"\"\" Loads and returns the data from an tif file\n",
    "        \n",
    "        Args:\n",
    "            root: path to the root folder\n",
    "            vol_name: name of the volume\n",
    "            \n",
    "        Return:\n",
    "            The loaded volume as numpy array\n",
    "    \"\"\"\n",
    "    with tifffile.TiffFile(path) as tif:\n",
    "        vol = np.asarray([img.asarray()  for img in tif.pages[:]])\n",
    "    return vol"
   ]
  },
  {
   "cell_type": "code",
   "execution_count": 8,
   "metadata": {},
   "outputs": [],
   "source": [
    "# plot sample result\n",
    "def vis_sample(img, masks, flows, channels=[[0,0]], figsize=(12,5), save=False, path=None):\n",
    "    \"\"\" Visualizes the output of the Cellpose algorithems.\n",
    "    \n",
    "        Args:\n",
    "            img: the orginal image\n",
    "            mask: the mask outputed by Cellpose\n",
    "            flow: the flows outputed by Cellpose\n",
    "    \"\"\"\n",
    "    fig = plt.figure(figsize=figsize)\n",
    "    plot.show_segmentation(fig, img, masks, np.asarray(flows[0]), channels=channels)\n",
    "    plt.tight_layout()\n",
    "    plt.show()\n",
    "    if save:\n",
    "        fig.savefig(path, dpi=fig.dpi)"
   ]
  },
  {
   "cell_type": "code",
   "execution_count": 9,
   "metadata": {},
   "outputs": [],
   "source": [
    "def color_grid_box(img,block_size,x1,x2,y1,y2,color=[255,0,0]):\n",
    "    \"\"\" Creates adds the outline of a square to a image with three channels.\n",
    "    \n",
    "        Args:\n",
    "            img: the image in which to draw the outline\n",
    "            block_size: the size of the square\n",
    "            x1: the location of the left vertical edge\n",
    "            x2: the location of the right vertical edge\n",
    "            y1: the location of the top horizontal edge\n",
    "            y2: the location of the bottom horizontal edge            \n",
    "    \"\"\"\n",
    "    if not isinstance(block_size, tuple):\n",
    "        if isinstance(block_size, int):\n",
    "            block_size= (block_size,block_size)\n",
    "        else:\n",
    "            print(f\"block_size must be tupel or int, but is {block_size.type}\")\n",
    "    img[y1*block_size[0]:y2*block_size[0],x1*block_size[1],:] = grid_color_red\n",
    "    img[y1*block_size[0]:y2*block_size[0],x2*block_size[1],:] = grid_color_red\n",
    "    img[y1*block_size[0],x1*block_size[1]:x2*block_size[1],:] = grid_color_red\n",
    "    img[y2*block_size[0],x1*block_size[1]:x2*block_size[1],:] = grid_color_red\n",
    "    return img"
   ]
  },
  {
   "cell_type": "markdown",
   "metadata": {},
   "source": [
    "# Cellpose model"
   ]
  },
  {
   "cell_type": "code",
   "execution_count": 10,
   "metadata": {},
   "outputs": [
    {
     "name": "stdout",
     "output_type": "stream",
     "text": [
      "2022-02-28 23:47:04,437 [INFO] ** TORCH CUDA version installed and working. **\n",
      "2022-02-28 23:47:04,441 [INFO] >>>> using GPU\n"
     ]
    }
   ],
   "source": [
    "model = models.Cellpose(model_type='nuclei', gpu=True)\n",
    "# gray images\n",
    "channels = [[0,0]]"
   ]
  },
  {
   "cell_type": "markdown",
   "metadata": {},
   "source": [
    "# Inference full volume"
   ]
  },
  {
   "cell_type": "code",
   "execution_count": 11,
   "metadata": {},
   "outputs": [
    {
     "name": "stdout",
     "output_type": "stream",
     "text": [
      "2022-02-28 23:47:04,580 [INFO] ** TORCH CUDA version installed and working. **\n",
      "2022-02-28 23:47:04,581 [INFO] >>>> using GPU\n",
      "2022-02-28 23:47:13,503 [INFO] ~~~ FINDING MASKS ~~~\n",
      "2022-02-28 23:47:13,507 [INFO] multi-stack tiff read in as having 255 planes 1 channels\n",
      "2022-02-28 23:47:19,256 [INFO] 0%|          | 0/255 [00:00<?, ?it/s]\n",
      "2022-02-28 23:47:21,322 [INFO] 0%|          | 1/255 [00:02<08:44,  2.06s/it]\n",
      "2022-02-28 23:47:22,210 [INFO] 1%|          | 2/255 [00:02<05:47,  1.37s/it]\n",
      "2022-02-28 23:47:23,093 [INFO] 1%|1         | 3/255 [00:03<04:49,  1.15s/it]\n",
      "2022-02-28 23:47:24,022 [INFO] 2%|1         | 4/255 [00:04<04:26,  1.06s/it]\n",
      "2022-02-28 23:47:24,898 [INFO] 2%|1         | 5/255 [00:05<04:08,  1.00it/s]\n",
      "2022-02-28 23:47:25,781 [INFO] 2%|2         | 6/255 [00:06<03:58,  1.05it/s]\n",
      "2022-02-28 23:47:26,647 [INFO] 3%|2         | 7/255 [00:07<03:49,  1.08it/s]\n",
      "2022-02-28 23:47:27,519 [INFO] 3%|3         | 8/255 [00:08<03:44,  1.10it/s]\n",
      "2022-02-28 23:47:28,371 [INFO] 4%|3         | 9/255 [00:09<03:39,  1.12it/s]\n",
      "2022-02-28 23:47:29,216 [INFO] 4%|3         | 10/255 [00:09<03:34,  1.14it/s]\n",
      "2022-02-28 23:47:30,082 [INFO] 4%|4         | 11/255 [00:10<03:33,  1.14it/s]\n",
      "2022-02-28 23:47:30,955 [INFO] 5%|4         | 12/255 [00:11<03:32,  1.14it/s]\n",
      "2022-02-28 23:47:31,828 [INFO] 5%|5         | 13/255 [00:12<03:31,  1.14it/s]\n",
      "2022-02-28 23:47:32,705 [INFO] 5%|5         | 14/255 [00:13<03:30,  1.14it/s]\n",
      "2022-02-28 23:47:33,591 [INFO] 6%|5         | 15/255 [00:14<03:30,  1.14it/s]\n",
      "2022-02-28 23:47:34,467 [INFO] 6%|6         | 16/255 [00:15<03:29,  1.14it/s]\n",
      "2022-02-28 23:47:35,347 [INFO] 7%|6         | 17/255 [00:16<03:28,  1.14it/s]\n",
      "2022-02-28 23:47:36,229 [INFO] 7%|7         | 18/255 [00:16<03:28,  1.14it/s]\n",
      "2022-02-28 23:47:37,151 [INFO] 7%|7         | 19/255 [00:17<03:30,  1.12it/s]\n",
      "2022-02-28 23:47:38,017 [INFO] 8%|7         | 20/255 [00:18<03:27,  1.13it/s]\n",
      "2022-02-28 23:47:38,878 [INFO] 8%|8         | 21/255 [00:19<03:25,  1.14it/s]\n",
      "2022-02-28 23:47:39,760 [INFO] 9%|8         | 22/255 [00:20<03:24,  1.14it/s]\n",
      "2022-02-28 23:47:40,627 [INFO] 9%|9         | 23/255 [00:21<03:23,  1.14it/s]\n",
      "2022-02-28 23:47:41,489 [INFO] 9%|9         | 24/255 [00:22<03:21,  1.15it/s]\n",
      "2022-02-28 23:47:42,348 [INFO] 10%|9         | 25/255 [00:23<03:19,  1.15it/s]\n",
      "2022-02-28 23:47:43,207 [INFO] 10%|#         | 26/255 [00:23<03:18,  1.16it/s]\n",
      "2022-02-28 23:47:44,063 [INFO] 11%|#         | 27/255 [00:24<03:16,  1.16it/s]\n",
      "2022-02-28 23:47:44,926 [INFO] 11%|#         | 28/255 [00:25<03:15,  1.16it/s]\n",
      "2022-02-28 23:47:45,807 [INFO] 11%|#1        | 29/255 [00:26<03:16,  1.15it/s]\n",
      "2022-02-28 23:47:46,674 [INFO] 12%|#1        | 30/255 [00:27<03:15,  1.15it/s]\n",
      "2022-02-28 23:47:47,541 [INFO] 12%|#2        | 31/255 [00:28<03:14,  1.15it/s]\n",
      "2022-02-28 23:47:48,402 [INFO] 13%|#2        | 32/255 [00:29<03:13,  1.16it/s]\n",
      "2022-02-28 23:47:49,267 [INFO] 13%|#2        | 33/255 [00:30<03:12,  1.16it/s]\n",
      "2022-02-28 23:47:50,135 [INFO] 13%|#3        | 34/255 [00:30<03:11,  1.15it/s]\n",
      "2022-02-28 23:47:50,995 [INFO] 14%|#3        | 35/255 [00:31<03:10,  1.16it/s]\n",
      "2022-02-28 23:47:51,863 [INFO] 14%|#4        | 36/255 [00:32<03:09,  1.16it/s]\n",
      "2022-02-28 23:47:52,719 [INFO] 15%|#4        | 37/255 [00:33<03:08,  1.16it/s]\n",
      "2022-02-28 23:47:53,582 [INFO] 15%|#4        | 38/255 [00:34<03:07,  1.16it/s]\n",
      "2022-02-28 23:47:54,426 [INFO] 15%|#5        | 39/255 [00:35<03:05,  1.17it/s]\n",
      "2022-02-28 23:47:55,290 [INFO] 16%|#5        | 40/255 [00:36<03:04,  1.16it/s]\n",
      "2022-02-28 23:47:56,148 [INFO] 16%|#6        | 41/255 [00:36<03:03,  1.16it/s]\n",
      "2022-02-28 23:47:57,007 [INFO] 16%|#6        | 42/255 [00:37<03:02,  1.16it/s]\n",
      "2022-02-28 23:47:57,846 [INFO] 17%|#6        | 43/255 [00:38<03:00,  1.17it/s]\n",
      "2022-02-28 23:47:58,694 [INFO] 17%|#7        | 44/255 [00:39<02:59,  1.17it/s]\n",
      "2022-02-28 23:47:59,541 [INFO] 18%|#7        | 45/255 [00:40<02:58,  1.18it/s]\n",
      "2022-02-28 23:48:00,388 [INFO] 18%|#8        | 46/255 [00:41<02:57,  1.18it/s]\n",
      "2022-02-28 23:48:01,230 [INFO] 18%|#8        | 47/255 [00:41<02:56,  1.18it/s]\n",
      "2022-02-28 23:48:02,080 [INFO] 19%|#8        | 48/255 [00:42<02:55,  1.18it/s]\n",
      "2022-02-28 23:48:02,935 [INFO] 19%|#9        | 49/255 [00:43<02:55,  1.18it/s]\n",
      "2022-02-28 23:48:03,838 [INFO] 20%|#9        | 50/255 [00:44<02:57,  1.15it/s]\n",
      "2022-02-28 23:48:04,689 [INFO] 20%|##        | 51/255 [00:45<02:55,  1.16it/s]\n",
      "2022-02-28 23:48:05,547 [INFO] 20%|##        | 52/255 [00:46<02:54,  1.16it/s]\n",
      "2022-02-28 23:48:06,403 [INFO] 21%|##        | 53/255 [00:47<02:53,  1.16it/s]\n",
      "2022-02-28 23:48:07,263 [INFO] 21%|##1       | 54/255 [00:48<02:52,  1.16it/s]\n",
      "2022-02-28 23:48:08,112 [INFO] 22%|##1       | 55/255 [00:48<02:51,  1.17it/s]\n",
      "2022-02-28 23:48:08,973 [INFO] 22%|##1       | 56/255 [00:49<02:50,  1.17it/s]\n",
      "2022-02-28 23:48:09,830 [INFO] 22%|##2       | 57/255 [00:50<02:49,  1.17it/s]\n",
      "2022-02-28 23:48:10,690 [INFO] 23%|##2       | 58/255 [00:51<02:49,  1.17it/s]\n",
      "2022-02-28 23:48:11,544 [INFO] 23%|##3       | 59/255 [00:52<02:47,  1.17it/s]\n",
      "2022-02-28 23:48:12,460 [INFO] 24%|##3       | 60/255 [00:53<02:50,  1.14it/s]\n",
      "2022-02-28 23:48:13,364 [INFO] 24%|##3       | 61/255 [00:54<02:51,  1.13it/s]\n",
      "2022-02-28 23:48:14,215 [INFO] 24%|##4       | 62/255 [00:54<02:48,  1.14it/s]\n",
      "2022-02-28 23:48:15,063 [INFO] 25%|##4       | 63/255 [00:55<02:46,  1.15it/s]\n",
      "2022-02-28 23:48:15,927 [INFO] 25%|##5       | 64/255 [00:56<02:45,  1.16it/s]\n",
      "2022-02-28 23:48:16,784 [INFO] 25%|##5       | 65/255 [00:57<02:43,  1.16it/s]\n",
      "2022-02-28 23:48:17,643 [INFO] 26%|##5       | 66/255 [00:58<02:42,  1.16it/s]\n",
      "2022-02-28 23:48:18,683 [INFO] 26%|##6       | 67/255 [00:59<02:52,  1.09it/s]\n",
      "2022-02-28 23:48:19,606 [INFO] 27%|##6       | 68/255 [01:00<02:51,  1.09it/s]\n",
      "2022-02-28 23:48:20,465 [INFO] 27%|##7       | 69/255 [01:01<02:47,  1.11it/s]\n",
      "2022-02-28 23:48:21,352 [INFO] 27%|##7       | 70/255 [01:02<02:45,  1.12it/s]\n",
      "2022-02-28 23:48:22,219 [INFO] 28%|##7       | 71/255 [01:02<02:43,  1.13it/s]\n",
      "2022-02-28 23:48:23,092 [INFO] 28%|##8       | 72/255 [01:03<02:41,  1.13it/s]\n",
      "2022-02-28 23:48:23,973 [INFO] 29%|##8       | 73/255 [01:04<02:40,  1.13it/s]\n",
      "2022-02-28 23:48:24,841 [INFO] 29%|##9       | 74/255 [01:05<02:38,  1.14it/s]\n",
      "2022-02-28 23:48:25,713 [INFO] 29%|##9       | 75/255 [01:06<02:37,  1.14it/s]\n",
      "2022-02-28 23:48:26,578 [INFO] 30%|##9       | 76/255 [01:07<02:36,  1.15it/s]\n",
      "2022-02-28 23:48:27,456 [INFO] 30%|###       | 77/255 [01:08<02:35,  1.14it/s]\n",
      "2022-02-28 23:48:28,337 [INFO] 31%|###       | 78/255 [01:09<02:35,  1.14it/s]\n",
      "2022-02-28 23:48:29,182 [INFO] 31%|###       | 79/255 [01:09<02:32,  1.15it/s]\n",
      "2022-02-28 23:48:30,040 [INFO] 31%|###1      | 80/255 [01:10<02:31,  1.16it/s]\n",
      "2022-02-28 23:48:30,892 [INFO] 32%|###1      | 81/255 [01:11<02:29,  1.16it/s]\n",
      "2022-02-28 23:48:31,735 [INFO] 32%|###2      | 82/255 [01:12<02:27,  1.17it/s]\n",
      "2022-02-28 23:48:32,583 [INFO] 33%|###2      | 83/255 [01:13<02:26,  1.17it/s]\n",
      "2022-02-28 23:48:33,441 [INFO] 33%|###2      | 84/255 [01:14<02:26,  1.17it/s]\n",
      "2022-02-28 23:48:34,291 [INFO] 33%|###3      | 85/255 [01:15<02:25,  1.17it/s]\n",
      "2022-02-28 23:48:35,149 [INFO] 34%|###3      | 86/255 [01:15<02:24,  1.17it/s]\n",
      "2022-02-28 23:48:35,985 [INFO] 34%|###4      | 87/255 [01:16<02:22,  1.18it/s]\n",
      "2022-02-28 23:48:36,854 [INFO] 35%|###4      | 88/255 [01:17<02:22,  1.17it/s]\n",
      "2022-02-28 23:48:37,703 [INFO] 35%|###4      | 89/255 [01:18<02:21,  1.17it/s]\n",
      "2022-02-28 23:48:38,568 [INFO] 35%|###5      | 90/255 [01:19<02:21,  1.17it/s]\n",
      "2022-02-28 23:48:39,414 [INFO] 36%|###5      | 91/255 [01:20<02:19,  1.17it/s]\n",
      "2022-02-28 23:48:40,307 [INFO] 36%|###6      | 92/255 [01:21<02:21,  1.16it/s]\n",
      "2022-02-28 23:48:41,158 [INFO] 36%|###6      | 93/255 [01:21<02:19,  1.16it/s]\n",
      "2022-02-28 23:48:42,081 [INFO] 37%|###6      | 94/255 [01:22<02:21,  1.14it/s]\n",
      "2022-02-28 23:48:42,938 [INFO] 37%|###7      | 95/255 [01:23<02:19,  1.15it/s]\n",
      "2022-02-28 23:48:43,788 [INFO] 38%|###7      | 96/255 [01:24<02:17,  1.15it/s]\n",
      "2022-02-28 23:48:44,640 [INFO] 38%|###8      | 97/255 [01:25<02:16,  1.16it/s]\n",
      "2022-02-28 23:48:45,493 [INFO] 38%|###8      | 98/255 [01:26<02:14,  1.16it/s]\n",
      "2022-02-28 23:48:46,352 [INFO] 39%|###8      | 99/255 [01:27<02:14,  1.16it/s]\n",
      "2022-02-28 23:48:47,217 [INFO] 39%|###9      | 100/255 [01:27<02:13,  1.16it/s]\n"
     ]
    },
    {
     "name": "stdout",
     "output_type": "stream",
     "text": [
      "2022-02-28 23:48:48,070 [INFO] 40%|###9      | 101/255 [01:28<02:12,  1.16it/s]\n",
      "2022-02-28 23:48:48,934 [INFO] 40%|####      | 102/255 [01:29<02:11,  1.16it/s]\n",
      "2022-02-28 23:48:49,789 [INFO] 40%|####      | 103/255 [01:30<02:10,  1.16it/s]\n",
      "2022-02-28 23:48:50,656 [INFO] 41%|####      | 104/255 [01:31<02:10,  1.16it/s]\n",
      "2022-02-28 23:48:51,510 [INFO] 41%|####1     | 105/255 [01:32<02:08,  1.16it/s]\n",
      "2022-02-28 23:48:52,374 [INFO] 42%|####1     | 106/255 [01:33<02:08,  1.16it/s]\n",
      "2022-02-28 23:48:53,236 [INFO] 42%|####1     | 107/255 [01:33<02:07,  1.16it/s]\n",
      "2022-02-28 23:48:54,123 [INFO] 42%|####2     | 108/255 [01:34<02:07,  1.15it/s]\n",
      "2022-02-28 23:48:54,998 [INFO] 43%|####2     | 109/255 [01:35<02:07,  1.15it/s]\n",
      "2022-02-28 23:48:55,858 [INFO] 43%|####3     | 110/255 [01:36<02:05,  1.15it/s]\n",
      "2022-02-28 23:48:56,725 [INFO] 44%|####3     | 111/255 [01:37<02:04,  1.15it/s]\n",
      "2022-02-28 23:48:57,594 [INFO] 44%|####3     | 112/255 [01:38<02:04,  1.15it/s]\n",
      "2022-02-28 23:48:58,475 [INFO] 44%|####4     | 113/255 [01:39<02:03,  1.15it/s]\n",
      "2022-02-28 23:48:59,356 [INFO] 45%|####4     | 114/255 [01:40<02:03,  1.14it/s]\n",
      "2022-02-28 23:49:00,221 [INFO] 45%|####5     | 115/255 [01:40<02:02,  1.15it/s]\n",
      "2022-02-28 23:49:01,085 [INFO] 45%|####5     | 116/255 [01:41<02:00,  1.15it/s]\n",
      "2022-02-28 23:49:01,935 [INFO] 46%|####5     | 117/255 [01:42<01:59,  1.16it/s]\n",
      "2022-02-28 23:49:02,801 [INFO] 46%|####6     | 118/255 [01:43<01:58,  1.16it/s]\n",
      "2022-02-28 23:49:03,657 [INFO] 47%|####6     | 119/255 [01:44<01:57,  1.16it/s]\n",
      "2022-02-28 23:49:04,535 [INFO] 47%|####7     | 120/255 [01:45<01:56,  1.15it/s]\n",
      "2022-02-28 23:49:05,400 [INFO] 47%|####7     | 121/255 [01:46<01:56,  1.15it/s]\n",
      "2022-02-28 23:49:06,265 [INFO] 48%|####7     | 122/255 [01:47<01:55,  1.16it/s]\n",
      "2022-02-28 23:49:07,117 [INFO] 48%|####8     | 123/255 [01:47<01:53,  1.16it/s]\n",
      "2022-02-28 23:49:07,991 [INFO] 49%|####8     | 124/255 [01:48<01:53,  1.16it/s]\n",
      "2022-02-28 23:49:08,862 [INFO] 49%|####9     | 125/255 [01:49<01:52,  1.15it/s]\n",
      "2022-02-28 23:49:09,730 [INFO] 49%|####9     | 126/255 [01:50<01:51,  1.15it/s]\n",
      "2022-02-28 23:49:10,585 [INFO] 50%|####9     | 127/255 [01:51<01:50,  1.16it/s]\n",
      "2022-02-28 23:49:11,441 [INFO] 50%|#####     | 128/255 [01:52<01:49,  1.16it/s]\n",
      "2022-02-28 23:49:12,294 [INFO] 51%|#####     | 129/255 [01:53<01:48,  1.16it/s]\n",
      "2022-02-28 23:49:13,151 [INFO] 51%|#####     | 130/255 [01:53<01:47,  1.16it/s]\n",
      "2022-02-28 23:49:14,023 [INFO] 51%|#####1    | 131/255 [01:54<01:46,  1.16it/s]\n",
      "2022-02-28 23:49:14,888 [INFO] 52%|#####1    | 132/255 [01:55<01:46,  1.16it/s]\n",
      "2022-02-28 23:49:15,744 [INFO] 52%|#####2    | 133/255 [01:56<01:45,  1.16it/s]\n",
      "2022-02-28 23:49:16,619 [INFO] 53%|#####2    | 134/255 [01:57<01:44,  1.16it/s]\n",
      "2022-02-28 23:49:17,479 [INFO] 53%|#####2    | 135/255 [01:58<01:43,  1.16it/s]\n",
      "2022-02-28 23:49:18,353 [INFO] 53%|#####3    | 136/255 [01:59<01:43,  1.15it/s]\n",
      "2022-02-28 23:49:19,216 [INFO] 54%|#####3    | 137/255 [01:59<01:42,  1.16it/s]\n",
      "2022-02-28 23:49:20,083 [INFO] 54%|#####4    | 138/255 [02:00<01:41,  1.15it/s]\n",
      "2022-02-28 23:49:20,937 [INFO] 55%|#####4    | 139/255 [02:01<01:40,  1.16it/s]\n",
      "2022-02-28 23:49:21,810 [INFO] 55%|#####4    | 140/255 [02:02<01:39,  1.16it/s]\n",
      "2022-02-28 23:49:22,664 [INFO] 55%|#####5    | 141/255 [02:03<01:38,  1.16it/s]\n",
      "2022-02-28 23:49:23,529 [INFO] 56%|#####5    | 142/255 [02:04<01:37,  1.16it/s]\n",
      "2022-02-28 23:49:24,390 [INFO] 56%|#####6    | 143/255 [02:05<01:36,  1.16it/s]\n",
      "2022-02-28 23:49:25,270 [INFO] 56%|#####6    | 144/255 [02:06<01:36,  1.15it/s]\n",
      "2022-02-28 23:49:26,138 [INFO] 57%|#####6    | 145/255 [02:06<01:35,  1.15it/s]\n",
      "2022-02-28 23:49:26,998 [INFO] 57%|#####7    | 146/255 [02:07<01:34,  1.16it/s]\n",
      "2022-02-28 23:49:27,847 [INFO] 58%|#####7    | 147/255 [02:08<01:32,  1.16it/s]\n",
      "2022-02-28 23:49:28,709 [INFO] 58%|#####8    | 148/255 [02:09<01:32,  1.16it/s]\n",
      "2022-02-28 23:49:29,572 [INFO] 58%|#####8    | 149/255 [02:10<01:31,  1.16it/s]\n",
      "2022-02-28 23:49:30,426 [INFO] 59%|#####8    | 150/255 [02:11<01:30,  1.16it/s]\n",
      "2022-02-28 23:49:31,284 [INFO] 59%|#####9    | 151/255 [02:12<01:29,  1.16it/s]\n",
      "2022-02-28 23:49:32,155 [INFO] 60%|#####9    | 152/255 [02:12<01:28,  1.16it/s]\n",
      "2022-02-28 23:49:33,002 [INFO] 60%|######    | 153/255 [02:13<01:27,  1.17it/s]\n",
      "2022-02-28 23:49:33,859 [INFO] 60%|######    | 154/255 [02:14<01:26,  1.17it/s]\n",
      "2022-02-28 23:49:34,724 [INFO] 61%|######    | 155/255 [02:15<01:25,  1.16it/s]\n",
      "2022-02-28 23:49:35,580 [INFO] 61%|######1   | 156/255 [02:16<01:25,  1.16it/s]\n",
      "2022-02-28 23:49:36,457 [INFO] 62%|######1   | 157/255 [02:17<01:24,  1.16it/s]\n",
      "2022-02-28 23:49:37,329 [INFO] 62%|######1   | 158/255 [02:18<01:24,  1.15it/s]\n",
      "2022-02-28 23:49:38,180 [INFO] 62%|######2   | 159/255 [02:18<01:22,  1.16it/s]\n",
      "2022-02-28 23:49:39,034 [INFO] 63%|######2   | 160/255 [02:19<01:21,  1.16it/s]\n",
      "2022-02-28 23:49:39,904 [INFO] 63%|######3   | 161/255 [02:20<01:21,  1.16it/s]\n",
      "2022-02-28 23:49:40,759 [INFO] 64%|######3   | 162/255 [02:21<01:20,  1.16it/s]\n",
      "2022-02-28 23:49:41,613 [INFO] 64%|######3   | 163/255 [02:22<01:18,  1.16it/s]\n",
      "2022-02-28 23:49:42,478 [INFO] 64%|######4   | 164/255 [02:23<01:18,  1.16it/s]\n",
      "2022-02-28 23:49:43,329 [INFO] 65%|######4   | 165/255 [02:24<01:17,  1.17it/s]\n",
      "2022-02-28 23:49:44,184 [INFO] 65%|######5   | 166/255 [02:24<01:16,  1.17it/s]\n",
      "2022-02-28 23:49:45,048 [INFO] 65%|######5   | 167/255 [02:25<01:15,  1.16it/s]\n",
      "2022-02-28 23:49:45,906 [INFO] 66%|######5   | 168/255 [02:26<01:14,  1.16it/s]\n",
      "2022-02-28 23:49:46,746 [INFO] 66%|######6   | 169/255 [02:27<01:13,  1.17it/s]\n",
      "2022-02-28 23:49:47,604 [INFO] 67%|######6   | 170/255 [02:28<01:12,  1.17it/s]\n",
      "2022-02-28 23:49:48,460 [INFO] 67%|######7   | 171/255 [02:29<01:11,  1.17it/s]\n",
      "2022-02-28 23:49:49,326 [INFO] 67%|######7   | 172/255 [02:30<01:11,  1.17it/s]\n",
      "2022-02-28 23:49:50,196 [INFO] 68%|######7   | 173/255 [02:30<01:10,  1.16it/s]\n",
      "2022-02-28 23:49:51,044 [INFO] 68%|######8   | 174/255 [02:31<01:09,  1.17it/s]\n",
      "2022-02-28 23:49:51,910 [INFO] 69%|######8   | 175/255 [02:32<01:08,  1.16it/s]\n",
      "2022-02-28 23:49:52,766 [INFO] 69%|######9   | 176/255 [02:33<01:07,  1.16it/s]\n",
      "2022-02-28 23:49:53,635 [INFO] 69%|######9   | 177/255 [02:34<01:07,  1.16it/s]\n",
      "2022-02-28 23:49:54,513 [INFO] 70%|######9   | 178/255 [02:35<01:06,  1.15it/s]\n",
      "2022-02-28 23:49:55,353 [INFO] 70%|#######   | 179/255 [02:36<01:05,  1.16it/s]\n",
      "2022-02-28 23:49:56,199 [INFO] 71%|#######   | 180/255 [02:36<01:04,  1.17it/s]\n",
      "2022-02-28 23:49:57,052 [INFO] 71%|#######   | 181/255 [02:37<01:03,  1.17it/s]\n",
      "2022-02-28 23:49:57,906 [INFO] 71%|#######1  | 182/255 [02:38<01:02,  1.17it/s]\n",
      "2022-02-28 23:49:58,761 [INFO] 72%|#######1  | 183/255 [02:39<01:01,  1.17it/s]\n",
      "2022-02-28 23:49:59,619 [INFO] 72%|#######2  | 184/255 [02:40<01:00,  1.17it/s]\n",
      "2022-02-28 23:50:00,461 [INFO] 73%|#######2  | 185/255 [02:41<00:59,  1.17it/s]\n",
      "2022-02-28 23:50:01,288 [INFO] 73%|#######2  | 186/255 [02:42<00:58,  1.18it/s]\n",
      "2022-02-28 23:50:02,113 [INFO] 73%|#######3  | 187/255 [02:42<00:57,  1.19it/s]\n",
      "2022-02-28 23:50:02,945 [INFO] 74%|#######3  | 188/255 [02:43<00:56,  1.20it/s]\n",
      "2022-02-28 23:50:03,776 [INFO] 74%|#######4  | 189/255 [02:44<00:55,  1.20it/s]\n",
      "2022-02-28 23:50:04,625 [INFO] 75%|#######4  | 190/255 [02:45<00:54,  1.19it/s]\n",
      "2022-02-28 23:50:05,455 [INFO] 75%|#######4  | 191/255 [02:46<00:53,  1.20it/s]\n",
      "2022-02-28 23:50:06,286 [INFO] 75%|#######5  | 192/255 [02:47<00:52,  1.20it/s]\n",
      "2022-02-28 23:50:07,133 [INFO] 76%|#######5  | 193/255 [02:47<00:51,  1.19it/s]\n",
      "2022-02-28 23:50:07,954 [INFO] 76%|#######6  | 194/255 [02:48<00:50,  1.20it/s]\n",
      "2022-02-28 23:50:08,794 [INFO] 76%|#######6  | 195/255 [02:49<00:50,  1.20it/s]\n",
      "2022-02-28 23:50:09,632 [INFO] 77%|#######6  | 196/255 [02:50<00:49,  1.20it/s]\n",
      "2022-02-28 23:50:10,465 [INFO] 77%|#######7  | 197/255 [02:51<00:48,  1.20it/s]\n",
      "2022-02-28 23:50:11,307 [INFO] 78%|#######7  | 198/255 [02:52<00:47,  1.19it/s]\n",
      "2022-02-28 23:50:12,142 [INFO] 78%|#######8  | 199/255 [02:52<00:46,  1.20it/s]\n",
      "2022-02-28 23:50:12,989 [INFO] 78%|#######8  | 200/255 [02:53<00:46,  1.19it/s]\n",
      "2022-02-28 23:50:13,829 [INFO] 79%|#######8  | 201/255 [02:54<00:45,  1.19it/s]\n",
      "2022-02-28 23:50:14,660 [INFO] 79%|#######9  | 202/255 [02:55<00:44,  1.19it/s]\n",
      "2022-02-28 23:50:15,504 [INFO] 80%|#######9  | 203/255 [02:56<00:43,  1.19it/s]\n"
     ]
    },
    {
     "name": "stdout",
     "output_type": "stream",
     "text": [
      "2022-02-28 23:50:16,336 [INFO] 80%|########  | 204/255 [02:57<00:42,  1.19it/s]\n",
      "2022-02-28 23:50:17,230 [INFO] 80%|########  | 205/255 [02:57<00:42,  1.17it/s]\n",
      "2022-02-28 23:50:18,064 [INFO] 81%|########  | 206/255 [02:58<00:41,  1.18it/s]\n",
      "2022-02-28 23:50:18,883 [INFO] 81%|########1 | 207/255 [02:59<00:40,  1.19it/s]\n",
      "2022-02-28 23:50:19,721 [INFO] 82%|########1 | 208/255 [03:00<00:39,  1.19it/s]\n",
      "2022-02-28 23:50:20,557 [INFO] 82%|########1 | 209/255 [03:01<00:38,  1.19it/s]\n",
      "2022-02-28 23:50:21,384 [INFO] 82%|########2 | 210/255 [03:02<00:37,  1.20it/s]\n",
      "2022-02-28 23:50:22,222 [INFO] 83%|########2 | 211/255 [03:02<00:36,  1.20it/s]\n",
      "2022-02-28 23:50:23,049 [INFO] 83%|########3 | 212/255 [03:03<00:35,  1.20it/s]\n",
      "2022-02-28 23:50:24,005 [INFO] 84%|########3 | 213/255 [03:04<00:36,  1.15it/s]\n",
      "2022-02-28 23:50:24,836 [INFO] 84%|########3 | 214/255 [03:05<00:35,  1.17it/s]\n",
      "2022-02-28 23:50:25,672 [INFO] 84%|########4 | 215/255 [03:06<00:34,  1.17it/s]\n",
      "2022-02-28 23:50:26,508 [INFO] 85%|########4 | 216/255 [03:07<00:33,  1.18it/s]\n",
      "2022-02-28 23:50:27,345 [INFO] 85%|########5 | 217/255 [03:08<00:32,  1.18it/s]\n",
      "2022-02-28 23:50:28,183 [INFO] 85%|########5 | 218/255 [03:08<00:31,  1.19it/s]\n",
      "2022-02-28 23:50:29,006 [INFO] 86%|########5 | 219/255 [03:09<00:30,  1.20it/s]\n",
      "2022-02-28 23:50:29,836 [INFO] 86%|########6 | 220/255 [03:10<00:29,  1.20it/s]\n",
      "2022-02-28 23:50:30,654 [INFO] 87%|########6 | 221/255 [03:11<00:28,  1.21it/s]\n",
      "2022-02-28 23:50:31,527 [INFO] 87%|########7 | 222/255 [03:12<00:27,  1.19it/s]\n",
      "2022-02-28 23:50:32,356 [INFO] 87%|########7 | 223/255 [03:13<00:26,  1.19it/s]\n",
      "2022-02-28 23:50:33,187 [INFO] 88%|########7 | 224/255 [03:13<00:25,  1.20it/s]\n",
      "2022-02-28 23:50:34,024 [INFO] 88%|########8 | 225/255 [03:14<00:25,  1.20it/s]\n",
      "2022-02-28 23:50:34,864 [INFO] 89%|########8 | 226/255 [03:15<00:24,  1.19it/s]\n",
      "2022-02-28 23:50:35,703 [INFO] 89%|########9 | 227/255 [03:16<00:23,  1.19it/s]\n",
      "2022-02-28 23:50:36,556 [INFO] 89%|########9 | 228/255 [03:17<00:22,  1.19it/s]\n",
      "2022-02-28 23:50:37,405 [INFO] 90%|########9 | 229/255 [03:18<00:21,  1.18it/s]\n",
      "2022-02-28 23:50:38,240 [INFO] 90%|######### | 230/255 [03:18<00:21,  1.19it/s]\n",
      "2022-02-28 23:50:39,093 [INFO] 91%|######### | 231/255 [03:19<00:20,  1.18it/s]\n",
      "2022-02-28 23:50:39,937 [INFO] 91%|######### | 232/255 [03:20<00:19,  1.18it/s]\n",
      "2022-02-28 23:50:40,771 [INFO] 91%|#########1| 233/255 [03:21<00:18,  1.19it/s]\n",
      "2022-02-28 23:50:41,607 [INFO] 92%|#########1| 234/255 [03:22<00:17,  1.19it/s]\n",
      "2022-02-28 23:50:42,442 [INFO] 92%|#########2| 235/255 [03:23<00:16,  1.19it/s]\n",
      "2022-02-28 23:50:43,283 [INFO] 93%|#########2| 236/255 [03:24<00:15,  1.19it/s]\n",
      "2022-02-28 23:50:44,124 [INFO] 93%|#########2| 237/255 [03:24<00:15,  1.19it/s]\n",
      "2022-02-28 23:50:44,967 [INFO] 93%|#########3| 238/255 [03:25<00:14,  1.19it/s]\n",
      "2022-02-28 23:50:45,811 [INFO] 94%|#########3| 239/255 [03:26<00:13,  1.19it/s]\n",
      "2022-02-28 23:50:46,650 [INFO] 94%|#########4| 240/255 [03:27<00:12,  1.19it/s]\n",
      "2022-02-28 23:50:47,496 [INFO] 95%|#########4| 241/255 [03:28<00:11,  1.19it/s]\n",
      "2022-02-28 23:50:48,347 [INFO] 95%|#########4| 242/255 [03:29<00:10,  1.18it/s]\n",
      "2022-02-28 23:50:49,193 [INFO] 95%|#########5| 243/255 [03:29<00:10,  1.18it/s]\n",
      "2022-02-28 23:50:50,034 [INFO] 96%|#########5| 244/255 [03:30<00:09,  1.19it/s]\n",
      "2022-02-28 23:50:50,886 [INFO] 96%|#########6| 245/255 [03:31<00:08,  1.18it/s]\n",
      "2022-02-28 23:50:51,738 [INFO] 96%|#########6| 246/255 [03:32<00:07,  1.18it/s]\n",
      "2022-02-28 23:50:52,583 [INFO] 97%|#########6| 247/255 [03:33<00:06,  1.18it/s]\n",
      "2022-02-28 23:50:53,443 [INFO] 97%|#########7| 248/255 [03:34<00:05,  1.17it/s]\n",
      "2022-02-28 23:50:54,294 [INFO] 98%|#########7| 249/255 [03:35<00:05,  1.18it/s]\n",
      "2022-02-28 23:50:55,139 [INFO] 98%|#########8| 250/255 [03:35<00:04,  1.18it/s]\n",
      "2022-02-28 23:50:55,988 [INFO] 98%|#########8| 251/255 [03:36<00:03,  1.18it/s]\n",
      "2022-02-28 23:50:56,852 [INFO] 99%|#########8| 252/255 [03:37<00:02,  1.17it/s]\n",
      "2022-02-28 23:50:57,687 [INFO] 99%|#########9| 253/255 [03:38<00:01,  1.18it/s]\n",
      "2022-02-28 23:50:58,528 [INFO] 100%|#########9| 254/255 [03:39<00:00,  1.18it/s]\n",
      "2022-02-28 23:50:59,365 [INFO] 100%|##########| 255/255 [03:40<00:00,  1.19it/s]\n",
      "2022-02-28 23:50:59,367 [INFO] 100%|##########| 255/255 [03:40<00:00,  1.16it/s]\n",
      "2022-02-28 23:50:59,506 [INFO] network run in 220.25s\n",
      "2022-03-01 00:12:29,766 [INFO] stitching 255 planes using stitch_threshold=0.700 to make 3D masks\n",
      "2022-03-01 00:12:56,752 [INFO] masks created in 1317.24s\n",
      "2022-03-01 00:14:46,173 [INFO] >>>> TOTAL TIME 1652.67 sec\n"
     ]
    }
   ],
   "source": [
    "#setup model\n",
    "model = models.Cellpose(model_type='nuclei', gpu=True)\n",
    "\n",
    "# define channels - gray images\n",
    "channels = [[0,0]]\n",
    "\n",
    "for l, vol_name in enumerate(cfg.VOLUMES):\n",
    "    # laod volume \n",
    "    vol = load_vol(cfg.ROOT, vol_name)\n",
    "    assert(vol.shape==(255,2048,2048)),f\"{vol.shape}\"\n",
    "    \n",
    "    # inference volume \n",
    "    masks, flows, styles, diams = model.eval(vol, stitch_threshold=0.7, do_3D=False, resample=True, anisotropy=5, flow_threshold=1.2, mask_threshold=-3, diameter=70, invert=False)\n",
    "    \n",
    "    # resize masks\n",
    "    masks_resize = resize(masks, (255,512,512), order=0, preserve_range=True, anti_aliasing=False)\n",
    "    assert(masks_resize.shape==(255,512,512)),f\"{masks_resize.shape}\"\n",
    "\n",
    "    # cast type to int\n",
    "    final_mask_volume = cast2dtype(masks_resize)\n",
    "    assert(final_mask_volume.dtype in [\"uint16\", \"uint32\", \"uint64\"]), \"The input label volume should be of type uint8 | uint16 | uint32 | uint64\"\n",
    "\n",
    "    # save to file\n",
    "    with h5py.File(os.path.join(\"/n/pfister_lab2/Lab/leander/cerberus/img_toolbox/cellpose_ouput\", \"cellpose_no3d_stitch_2_\"+vol_name), \"w\") as h5:\n",
    "        h5_dataset =  h5.create_dataset(\"main\", data=final_mask_volume)\n",
    "    "
   ]
  },
  {
   "cell_type": "markdown",
   "metadata": {},
   "source": [
    "# Inference slice by slice"
   ]
  },
  {
   "cell_type": "code",
   "execution_count": 19,
   "metadata": {},
   "outputs": [],
   "source": [
    "# values derived from experimenting with the sample below\n",
    "diamters = [110,100,100,100]\n",
    "thresholds = [-1,-2,-2,-2]"
   ]
  },
  {
   "cell_type": "code",
   "execution_count": 1,
   "metadata": {},
   "outputs": [
    {
     "ename": "NameError",
     "evalue": "name 'cfg' is not defined",
     "output_type": "error",
     "traceback": [
      "\u001b[0;31m---------------------------------------------------------------------------\u001b[0m",
      "\u001b[0;31mNameError\u001b[0m                                 Traceback (most recent call last)",
      "\u001b[0;32m<ipython-input-1-336edf8a3a06>\u001b[0m in \u001b[0;36m<module>\u001b[0;34m\u001b[0m\n\u001b[0;32m----> 1\u001b[0;31m \u001b[0;32mfor\u001b[0m \u001b[0mi\u001b[0m\u001b[0;34m,\u001b[0m \u001b[0mvol_name\u001b[0m \u001b[0;32min\u001b[0m \u001b[0menumerate\u001b[0m\u001b[0;34m(\u001b[0m\u001b[0mcfg\u001b[0m\u001b[0;34m.\u001b[0m\u001b[0mVOLUMES\u001b[0m\u001b[0;34m[\u001b[0m\u001b[0;34m:\u001b[0m\u001b[0;36m1\u001b[0m\u001b[0;34m]\u001b[0m\u001b[0;34m)\u001b[0m\u001b[0;34m:\u001b[0m\u001b[0;34m\u001b[0m\u001b[0;34m\u001b[0m\u001b[0m\n\u001b[0m\u001b[1;32m      2\u001b[0m     \u001b[0mvol\u001b[0m \u001b[0;34m=\u001b[0m \u001b[0mload_vol\u001b[0m\u001b[0;34m(\u001b[0m\u001b[0mcfg\u001b[0m\u001b[0;34m.\u001b[0m\u001b[0mROOT\u001b[0m\u001b[0;34m,\u001b[0m \u001b[0mvol_name\u001b[0m\u001b[0;34m)\u001b[0m\u001b[0;34m\u001b[0m\u001b[0;34m\u001b[0m\u001b[0m\n\u001b[1;32m      3\u001b[0m \u001b[0;34m\u001b[0m\u001b[0m\n\u001b[1;32m      4\u001b[0m     \u001b[0mfinal_mask_volume\u001b[0m \u001b[0;34m=\u001b[0m \u001b[0mnp\u001b[0m\u001b[0;34m.\u001b[0m\u001b[0mzeros\u001b[0m\u001b[0;34m(\u001b[0m\u001b[0;34m(\u001b[0m\u001b[0;36m255\u001b[0m\u001b[0;34m,\u001b[0m\u001b[0;36m512\u001b[0m\u001b[0;34m,\u001b[0m\u001b[0;36m512\u001b[0m\u001b[0;34m)\u001b[0m\u001b[0;34m)\u001b[0m\u001b[0;34m\u001b[0m\u001b[0;34m\u001b[0m\u001b[0m\n\u001b[1;32m      5\u001b[0m \u001b[0;34m\u001b[0m\u001b[0m\n",
      "\u001b[0;31mNameError\u001b[0m: name 'cfg' is not defined"
     ]
    }
   ],
   "source": [
    "for i, vol_name in enumerate(cfg.VOLUMES[:1]):\n",
    "    vol = load_vol(cfg.ROOT, vol_name)\n",
    "    \n",
    "    final_mask_volume = np.zeros((255,512,512))\n",
    "    \n",
    "    for i, v in enumerate(vol):\n",
    "        m, flows, styles, diams = model.eval(v, resample=True, anisotropy=1, flow_threshold=1.2, mask_threshold=-5, diameter=60, invert=False, channels=channels)\n",
    "        m = resize(m, (512,512), order=0, preserve_range=True, anti_aliasing=False)\n",
    "\n",
    "        final_mask_volume[i,:,:] = m\n",
    "\n",
    "    final_mask_volume = cast2dtype(final_mask_volume)\n",
    "    final_mask_volume = stitch3D(final_mask_volume)\n",
    "\n",
    "    with h5py.File(os.path.join(\"/n/pfister_lab2/Lab/leander/cerberus/img_toolbox/cellpose_ouput\", \"cellpose_masks_img_by_img_care_\"+vol_name), \"w\") as h5:\n",
    "        h5_dataset =  h5.create_dataset(\"main\", data=final_mask_volume)\n",
    "    "
   ]
  },
  {
   "cell_type": "markdown",
   "metadata": {},
   "source": [
    "# Load and inspect results"
   ]
  },
  {
   "cell_type": "code",
   "execution_count": 16,
   "metadata": {},
   "outputs": [],
   "source": [
    "with h5py.File(os.path.join(\"/n/pfister_lab2/Lab/leander/cerberus/img_toolbox/cellpose_ouput\", \"cellpose_no3d_stitch_2_\"+vol_name), \"r\") as h5:\n",
    "    h5_dataset =  np.asarray(h5.get('main'))"
   ]
  },
  {
   "cell_type": "code",
   "execution_count": 18,
   "metadata": {},
   "outputs": [
    {
     "name": "stdout",
     "output_type": "stream",
     "text": [
      "/n/pfister_lab2/Lab/leander/cerberus/img_toolbox/cellpose_ouput/cellpose_no3d_stitch_2_image4.h5\n"
     ]
    }
   ],
   "source": [
    "print(os.path.join(\"/n/pfister_lab2/Lab/leander/cerberus/img_toolbox/cellpose_ouput\", \"cellpose_no3d_stitch_2_\"+vol_name))"
   ]
  },
  {
   "cell_type": "code",
   "execution_count": 17,
   "metadata": {},
   "outputs": [
    {
     "data": {
      "text/plain": [
       "<matplotlib.image.AxesImage at 0x2b2dbe7a8d50>"
      ]
     },
     "execution_count": 17,
     "metadata": {},
     "output_type": "execute_result"
    },
    {
     "data": {
      "image/png": "[encoded data removed]",
      "text/plain": [
       "<Figure size 432x288 with 1 Axes>"
      ]
     },
     "metadata": {
      "needs_background": "light"
     },
     "output_type": "display_data"
    }
   ],
   "source": [
    "plt.set_cmap(\"gray\")\n",
    "plt.imshow(h5_dataset[100,:,:])"
   ]
  },
  {
   "cell_type": "markdown",
   "metadata": {},
   "source": [
    "# Grid search"
   ]
  },
  {
   "cell_type": "code",
   "execution_count": null,
   "metadata": {},
   "outputs": [],
   "source": [
    "label = \"/n/pfister_lab2/Lab/leander/cerberus/ccgan/datasets/dorsal_crop_3D_255_512/gt_seg_mask/seg_3D_255_512_512.tif\"\n",
    "images = \"/n/pfister_lab2/Lab/leander/cerberus/ccgan/datasets/dorsal_crop_3D_255_512/testA/em_3D_255_512_512.tif\"\n",
    "img = load_vol_tif(images)\n",
    "lab = load_vol_tif(label)\n",
    "\n",
    "print(img.shape)\n",
    "print(lab.shape)\n",
    "for i, vol_name in enumerate(cfg.VOLUMES):\n",
    "    params = (load_vol_tif(images)[120:180,:512,:512], load_vol_tif(label)[120:180,:512,:512], model)\n",
    "    rranges = (slice(1, 4, 1), slice(90, 120, 5), slice(-3, 3, 1))\n",
    "    resbrute = optimize.brute(grid_search_stardis, rranges, args=params, full_output=True,\n",
    "                          finish=optimize.fmin)\n",
    "\n",
    "print(resbrute)"
   ]
  },
  {
   "cell_type": "markdown",
   "metadata": {},
   "source": [
    "# Manual grid search"
   ]
  },
  {
   "cell_type": "code",
   "execution_count": null,
   "metadata": {},
   "outputs": [],
   "source": [
    "diamters = [110,120]\n",
    "flow = [0.8, 1.0]\n",
    "threshold = [-4, -3, -2, -1]\n",
    "for vol in cfg.VOLUMES[2:]:\n",
    "    vol = load_vol(cfg.ROOT, vol)\n",
    "    img0_100 = vol_norm[100, : , :]\n",
    "    for d in diamters:\n",
    "        for f in flow:\n",
    "            for t in threshold:\n",
    "                print(f\"Diameter {d}, flow {f}, tresh {t}\")\n",
    "                masks, flows, styles, diams = model.eval(img0_100, resample=True, anisotropy=3, flow_threshold=f, mask_threshold=t, diameter=d, invert=True, channels=channels)\n",
    "                vis_sample(img0_100, masks, flows)#, save=True, path=os.path.join(\"/n/pfister_lab2/Lab/leander/cerberus/img_toolbox/cellpose_ouput\", vol.split(\".\")[0]+\"_d_\"+str(d)+\"_t_\"+ str(t)+\".png\"))"
   ]
  },
  {
   "cell_type": "markdown",
   "metadata": {},
   "source": [
    "# Estimate cell size in pixel"
   ]
  },
  {
   "cell_type": "code",
   "execution_count": null,
   "metadata": {},
   "outputs": [],
   "source": [
    "# retrive sample image\n",
    "img = np.asarray(vol[100, : , :]).astype(np.uint8)\n",
    "print(img.shape)\n",
    "\n",
    "# stack to three channels\n",
    "img = np.stack((img,)*3, axis=-1)\n",
    "\n",
    "# estimate cell size\n",
    "BLOCKSIZE = (95,95)\n",
    "\n",
    "# grid lines at these intervals (in pixels)\n",
    "dx, dy = BLOCKSIZE\n",
    "    \n",
    "# divide the image shape in to tiles\n",
    "ys = int(img.shape[0] // dy)\n",
    "xs = int(img.shape[1] // dx)    \n",
    "\n",
    "# setup the ticks and labels for the x axis\n",
    "x_ticks = [BLOCKSIZE[1]*i for i in range (0,xs)]\n",
    "x_labels = [i for i in range (0,xs)]\n",
    "\n",
    "# setup the ticks and labels for the y axis\n",
    "y_ticks = [BLOCKSIZE[0]*i for i in range (0,ys)]\n",
    "y_labels = [i for i in range (0,ys)]\n",
    "\n",
    "# colors\n",
    "grid_color_green = [0,100,0]\n",
    "grid_color_red = [255,0,0]\n",
    "\n",
    "# Modify the image to include the grid\n",
    "img[:,::dy,:] = grid_color_green\n",
    "img[::dx,:,:] = grid_color_green\n",
    "\n",
    "# color in sample cells\n",
    "img = color_grid_box(img,BLOCKSIZE,10,11,12,13,color=grid_color_red)\n",
    "img = color_grid_box(img,BLOCKSIZE,13,14,16,17,color=grid_color_red)\n",
    "img = color_grid_box(img,BLOCKSIZE,14,15,19,20,color=grid_color_red)\n",
    "img = color_grid_box(img,BLOCKSIZE,4,5,8,9,color=grid_color_red)\n",
    "\n",
    "fig, axes = plt.subplots(ncols=1,nrows=1, figsize=(20,20))\n",
    "\n",
    "axes.set_xticks(x_ticks)\n",
    "axes.set_xticklabels(x_labels)\n",
    "axes.set_yticks(y_ticks)\n",
    "axes.set_yticklabels(y_labels) \n",
    "axes.imshow(img)\n"
   ]
  }
 ],
 "metadata": {
  "kernelspec": {
   "display_name": "Python 3",
   "language": "python",
   "name": "python3"
  },
  "language_info": {
   "codemirror_mode": {
    "name": "ipython",
    "version": 3
   },
   "file_extension": ".py",
   "mimetype": "text/x-python",
   "name": "python",
   "nbconvert_exporter": "python",
   "pygments_lexer": "ipython3",
   "version": "3.7.6"
  }
 },
 "nbformat": 4,
 "nbformat_minor": 4
}

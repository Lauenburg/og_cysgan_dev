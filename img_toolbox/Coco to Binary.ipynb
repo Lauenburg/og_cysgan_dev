{
 "cells": [
  {
   "cell_type": "code",
   "execution_count": 1,
   "metadata": {},
   "outputs": [
    {
     "name": "stdout",
     "output_type": "stream",
     "text": [
      "Requirement already satisfied: pycocotools in /n/home05/lauenburg/.conda/envs/img_toolbox/lib/python3.7/site-packages (2.0.4)\n",
      "Requirement already satisfied: matplotlib>=2.1.0 in /n/home05/lauenburg/.conda/envs/img_toolbox/lib/python3.7/site-packages (from pycocotools) (3.4.3)\n",
      "Requirement already satisfied: numpy in /n/home05/lauenburg/.conda/envs/img_toolbox/lib/python3.7/site-packages (from pycocotools) (1.21.3)\n",
      "Requirement already satisfied: pillow>=6.2.0 in /n/home05/lauenburg/.conda/envs/img_toolbox/lib/python3.7/site-packages (from matplotlib>=2.1.0->pycocotools) (8.4.0)\n",
      "Requirement already satisfied: kiwisolver>=1.0.1 in /n/home05/lauenburg/.conda/envs/img_toolbox/lib/python3.7/site-packages (from matplotlib>=2.1.0->pycocotools) (1.3.2)\n",
      "Requirement already satisfied: python-dateutil>=2.7 in /n/home05/lauenburg/.conda/envs/img_toolbox/lib/python3.7/site-packages (from matplotlib>=2.1.0->pycocotools) (2.8.1)\n",
      "Requirement already satisfied: cycler>=0.10 in /n/home05/lauenburg/.conda/envs/img_toolbox/lib/python3.7/site-packages (from matplotlib>=2.1.0->pycocotools) (0.10.0)\n",
      "Requirement already satisfied: pyparsing>=2.2.1 in /n/home05/lauenburg/.conda/envs/img_toolbox/lib/python3.7/site-packages (from matplotlib>=2.1.0->pycocotools) (2.4.7)\n",
      "Requirement already satisfied: six in /n/home05/lauenburg/.conda/envs/img_toolbox/lib/python3.7/site-packages (from cycler>=0.10->matplotlib>=2.1.0->pycocotools) (1.16.0)\n"
     ]
    }
   ],
   "source": [
    "!pip install pycocotools"
   ]
  },
  {
   "cell_type": "code",
   "execution_count": 2,
   "metadata": {},
   "outputs": [
    {
     "name": "stdout",
     "output_type": "stream",
     "text": [
      "2022-03-01 15:53:13,194 [INFO] WRITING LOG OUTPUT TO /n/home05/lauenburg/.cellpose/run.log\n"
     ]
    }
   ],
   "source": [
    "from pycocotools.coco import COCO\n",
    "import os\n",
    "from PIL import Image\n",
    "import numpy as np\n",
    "from matplotlib import pyplot as plt\n",
    "\n",
    "from yacs.config import CfgNode as CN \n",
    "from glob import glob\n",
    "from natsort import natsorted\n",
    "import numpy as np\n",
    "import h5py\n",
    "\n",
    "# for volume stiching\n",
    "from cellpose import models, plot, io, metrics\n",
    "\n",
    "%matplotlib inline"
   ]
  },
  {
   "cell_type": "code",
   "execution_count": 3,
   "metadata": {},
   "outputs": [],
   "source": [
    "_C = CN()\n",
    "\n",
    "# path to the image folder\n",
    "#_C.IMG_ROOT = \"/n/pfister_lab2/Lab/leander/cerberus/img_toolbox/CVAT_vol0_full_v1_merged2_rgb/*.jpeg\"\n",
    "#_C.IMG_ROOT = \"/n/pfister_lab2/Lab/leander/cerberus/img_toolbox/CVAY_vol0_full_v1_merged2_CVAT1_rgb/*.jpeg\"\n",
    "_C.IMG_ROOT = \"/n/pfister_lab2/Lab/leander/cerberus/img_toolbox/CVAY_vol4/*.jpeg\"\n",
    "\n",
    "# path to the coco json file\n",
    "#_C.COCO_JSON = \"/n/pfister_lab2/Lab/leander/cerberus/img_toolbox/CVAT_vol0_full_v1_merged2_rgb/CVAT_vol0_full_v1_merged2_rgb.json\"\n",
    "#_C.COCO_JSON = \"/n/pfister_lab2/Lab/leander/cerberus/img_toolbox/CVAY_vol0_full_v1_merged2_CVAT1_rgb/CVAY_vol0_full_v1_merged2_CVAT1_rgb.json\"\n",
    "_C.COCO_JSON = \"/n/pfister_lab2/Lab/leander/cerberus/img_toolbox/CVAY_vol4/CVAY_vol4_second.json\"\n",
    "\n",
    "# path for label target dir\n",
    "#_C.TARGET_DIR = \"/n/pfister_lab2/Lab/leander/cerberus/img_toolbox/CVAT_vol0_full_v1_merged2_rgb/labels\"\n",
    "#_C.TARGET_DIR = \"/n/pfister_lab2/Lab/leander/cerberus/img_toolbox/CVAY_vol0_full_v1_merged2_CVAT1_rgb/labels\"\n",
    "_C.TARGET_DIR = \"/n/pfister_lab2/Lab/leander/cerberus/img_toolbox/CVAY_vol4/labels\"\n"
   ]
  },
  {
   "cell_type": "code",
   "execution_count": 4,
   "metadata": {},
   "outputs": [],
   "source": [
    "# load the configurations\n",
    "def get_cfg_defaults():\n",
    "    return _C.clone()\n",
    "\n",
    "cfg = get_cfg_defaults()"
   ]
  },
  {
   "cell_type": "markdown",
   "metadata": {},
   "source": [
    "# Generate 2D masks from coco json"
   ]
  },
  {
   "cell_type": "code",
   "execution_count": 5,
   "metadata": {},
   "outputs": [
    {
     "name": "stdout",
     "output_type": "stream",
     "text": [
      "loading annotations into memory...\n",
      "Done (t=0.01s)\n",
      "creating index...\n",
      "index created!\n",
      "255\n"
     ]
    }
   ],
   "source": [
    "# load the json\n",
    "coco = COCO(cfg.COCO_JSON)\n",
    "# load the paths to all imager\n",
    "image_paths = natsorted(glob(cfg.IMG_ROOT))\n",
    "print(len(image_paths))"
   ]
  },
  {
   "cell_type": "code",
   "execution_count": 6,
   "metadata": {},
   "outputs": [],
   "source": [
    "# create the masks\n",
    "anns_list = []\n",
    "for i, img_p in enumerate(image_paths):\n",
    "    img = coco.imgs[i+1]\n",
    "    cat_ids = coco.getCatIds()\n",
    "    anns_ids = coco.getAnnIds(imgIds=img['id'], catIds=cat_ids, iscrowd=None)\n",
    "    anns = coco.loadAnns(anns_ids)\n",
    "    anns_img = np.zeros((img['height'],img['width']))\n",
    "    if len(anns) > 0:\n",
    "        anns_img = np.maximum(anns_img,coco.annToMask(anns[0])*anns[0]['category_id'])\n",
    "        for ann in anns[1:]:\n",
    "            anns_img += np.maximum(anns_img,coco.annToMask(ann)*ann['category_id'])\n",
    "    anns_list.append(anns_img)"
   ]
  },
  {
   "cell_type": "code",
   "execution_count": 7,
   "metadata": {},
   "outputs": [],
   "source": [
    "anns_list = np.asarray(anns_list).astype(np.uint16)"
   ]
  },
  {
   "cell_type": "code",
   "execution_count": 8,
   "metadata": {},
   "outputs": [],
   "source": [
    "assert(np.asarray(anns_list).shape == (255, 2048, 2048)), f\"The list has shape of {np.asarray(anns_list).shape} but should be (255, 2048, 2048)\""
   ]
  },
  {
   "cell_type": "code",
   "execution_count": 9,
   "metadata": {},
   "outputs": [],
   "source": [
    "# Generated 3D masks from 2D masks"
   ]
  },
  {
   "cell_type": "code",
   "execution_count": 10,
   "metadata": {},
   "outputs": [],
   "source": [
    "def stitch3D(masks, stitch_threshold=0.25):\n",
    "    \"\"\" stitch 2D masks into 3D volume with stitch_threshold on IOU \"\"\"\n",
    "    \n",
    "    mmax = masks[0].max()\n",
    "    empty = 0\n",
    "    \n",
    "    for i in range(len(masks)-1):\n",
    "        iou = metrics._intersection_over_union(masks[i+1], masks[i])[1:,1:]\n",
    "        if not iou.size and empty == 0:\n",
    "            masks[i+1] = masks[i+1]\n",
    "            mmax = masks[i+1].max()\n",
    "        elif not iou.size and not empty == 0:\n",
    "            icount = masks[i+1].max()\n",
    "            istitch = np.arange(mmax+1, mmax + icount+1, 1, int)\n",
    "            mmax += icount\n",
    "            istitch = np.append(np.array(0), istitch)\n",
    "            masks[i+1] = istitch[masks[i+1]]\n",
    "        else:\n",
    "            iou[iou < stitch_threshold] = 0.0\n",
    "            iou[iou < iou.max(axis=0)] = 0.0\n",
    "            istitch = iou.argmax(axis=1) + 1\n",
    "            ino = np.nonzero(iou.max(axis=1)==0.0)[0]\n",
    "            istitch[ino] = np.arange(mmax+1, mmax+len(ino)+1, 1, int)\n",
    "            mmax += len(ino)\n",
    "            istitch = np.append(np.array(0), istitch)\n",
    "            masks[i+1] = istitch[masks[i+1]]\n",
    "            empty = 1\n",
    "            \n",
    "    return masks"
   ]
  },
  {
   "cell_type": "code",
   "execution_count": 11,
   "metadata": {},
   "outputs": [
    {
     "name": "stderr",
     "output_type": "stream",
     "text": [
      "/n/home05/lauenburg/.conda/envs/img_toolbox/lib/python3.7/site-packages/cellpose/metrics.py:202: RuntimeWarning: invalid value encountered in true_divide\n",
      "  iou = overlap / (n_pixels_pred + n_pixels_true - overlap)\n"
     ]
    }
   ],
   "source": [
    "stitched_volume = stitch3D(np.asarray(anns_list))"
   ]
  },
  {
   "cell_type": "code",
   "execution_count": 12,
   "metadata": {},
   "outputs": [
    {
     "name": "stdout",
     "output_type": "stream",
     "text": [
      "uint16\n",
      "2139095176\n"
     ]
    }
   ],
   "source": [
    "import sys\n",
    "assert(np.asarray(stitched_volume).shape == (255, 2048, 2048)), f\"The list has shape of {np.asarray(anns_list).shape} but should be (255, 2048, 2048)\"\n",
    "assert(stitched_volume.dtype in [\"uint16\", \"uint32\", \"uint64\"]), \"The input label volume should be of type uint8 | uint16 | uint32 | uint64\"\n",
    "print(stitched_volume.dtype)\n",
    "print(sys.getsizeof(stitched_volume))\n"
   ]
  },
  {
   "cell_type": "code",
   "execution_count": 13,
   "metadata": {},
   "outputs": [],
   "source": [
    "with h5py.File(os.path.join(cfg.TARGET_DIR, \"CVAY_vol4_second.h5\"), \"w\") as h5:\n",
    "    h5_dataset =  h5.create_dataset(\"main\", data=stitched_volume)"
   ]
  },
  {
   "cell_type": "code",
   "execution_count": 14,
   "metadata": {},
   "outputs": [
    {
     "name": "stdout",
     "output_type": "stream",
     "text": [
      "/n/pfister_lab2/Lab/leander/cerberus/img_toolbox/CVAY_vol4/labels/CVAY_vol4_second.h5\n"
     ]
    }
   ],
   "source": [
    "print(os.path.join(cfg.TARGET_DIR, \"CVAY_vol4_second.h5\"))"
   ]
  },
  {
   "cell_type": "code",
   "execution_count": null,
   "metadata": {},
   "outputs": [],
   "source": []
  }
 ],
 "metadata": {
  "kernelspec": {
   "display_name": "Python 3",
   "language": "python",
   "name": "python3"
  },
  "language_info": {
   "codemirror_mode": {
    "name": "ipython",
    "version": 3
   },
   "file_extension": ".py",
   "mimetype": "text/x-python",
   "name": "python",
   "nbconvert_exporter": "python",
   "pygments_lexer": "ipython3",
   "version": "3.7.6"
  }
 },
 "nbformat": 4,
 "nbformat_minor": 4
}
